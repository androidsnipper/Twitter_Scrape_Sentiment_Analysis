{
 "cells": [
  {
   "cell_type": "markdown",
   "metadata": {},
   "source": [
    "# 3"
   ]
  },
  {
   "cell_type": "code",
   "execution_count": 19,
   "metadata": {},
   "outputs": [],
   "source": [
    "import tweepy,re\n",
    "from textblob import TextBlob\n",
    "import matplotlib.pyplot as plt\n",
    "import pandas as pd\n",
    "from nltk.tokenize import word_tokenize\n",
    "from nltk.stem import WordNetLemmatizer\n",
    "from nltk.corpus import stopwords"
   ]
  },
  {
   "cell_type": "code",
   "execution_count": 20,
   "metadata": {},
   "outputs": [],
   "source": [
    "# authentication\n",
    "consumerKey = 'nAfAiljzt8Ntd1oatjYU2uvKc'\n",
    "consumerSecret = 'JBJahC7nKS4q853V0vodZ8buaYGHwySv6u5XFm52dlownOqTRm'\n",
    "accessToken = '4880646753-8TzBk1UEjuvXEXR2XL7uJ2ZFMRZnwNrDOioUHI9'\n",
    "accessTokenSecret = 'CjAas3cB7A9OW7SJFA6SOkyfgv61MyN59W0g47ZSqBL2b'\n",
    "auth = tweepy.OAuthHandler(consumerKey, consumerSecret)\n",
    "auth.set_access_token(accessToken, accessTokenSecret)\n",
    "api = tweepy.API(auth)"
   ]
  },
  {
   "cell_type": "code",
   "execution_count": 38,
   "metadata": {},
   "outputs": [
    {
     "name": "stdout",
     "output_type": "stream",
     "text": [
      "Enter Keyword/Tag to search about: computer vision\n",
      "Enter how many tweets to search: 10\n"
     ]
    }
   ],
   "source": [
    "# input for term to be searched and how many tweets to search\n",
    "searchTerm = input(\"Enter Keyword/Tag to search about: \")\n",
    "NoOfTerms = int(input(\"Enter how many tweets to search: \")) # explicit type casting - 1)implicit 2)explicit - user intupption\n",
    "tweets = []\n",
    "tweetText = []\n",
    "# searching for tweets\n",
    "tweets = tweepy.Cursor(api.search, q=searchTerm+\" -filter:retweets\", lang = \"en\").items(NoOfTerms)"
   ]
  },
  {
   "cell_type": "code",
   "execution_count": 59,
   "metadata": {},
   "outputs": [
    {
     "name": "stdout",
     "output_type": "stream",
     "text": [
      "4.6\n"
     ]
    }
   ],
   "source": [
    "print( 1 + 3.6) # type casting - implicit"
   ]
  },
  {
   "cell_type": "code",
   "execution_count": null,
   "metadata": {},
   "outputs": [],
   "source": [
    "\n",
    "# <html> fkfkf </html>\n",
    "# <html> fkfkf </html>\n",
    "# <html> fkfkf </html>\n",
    "# <html> fkfkf </html>\n",
    "# <html> fkfkf </html>"
   ]
  },
  {
   "cell_type": "code",
   "execution_count": 39,
   "metadata": {},
   "outputs": [
    {
     "data": {
      "text/html": [
       "<div>\n",
       "<style scoped>\n",
       "    .dataframe tbody tr th:only-of-type {\n",
       "        vertical-align: middle;\n",
       "    }\n",
       "\n",
       "    .dataframe tbody tr th {\n",
       "        vertical-align: top;\n",
       "    }\n",
       "\n",
       "    .dataframe thead th {\n",
       "        text-align: right;\n",
       "    }\n",
       "</style>\n",
       "<table border=\"1\" class=\"dataframe\">\n",
       "  <thead>\n",
       "    <tr style=\"text-align: right;\">\n",
       "      <th></th>\n",
       "      <th>0</th>\n",
       "    </tr>\n",
       "  </thead>\n",
       "  <tbody>\n",
       "    <tr>\n",
       "      <th>0</th>\n",
       "      <td>this is not computer vision research, it’s a b...</td>\n",
       "    </tr>\n",
       "    <tr>\n",
       "      <th>1</th>\n",
       "      <td>@pfbyjy Technically one could use any vector s...</td>\n",
       "    </tr>\n",
       "    <tr>\n",
       "      <th>2</th>\n",
       "      <td>Join eInfochips, an Arrow company, at #GTC21 f...</td>\n",
       "    </tr>\n",
       "    <tr>\n",
       "      <th>3</th>\n",
       "      <td>MIT researchers have developed a robot that us...</td>\n",
       "    </tr>\n",
       "    <tr>\n",
       "      <th>4</th>\n",
       "      <td>@svpino Hello, I'm a College Student. I'm just...</td>\n",
       "    </tr>\n",
       "    <tr>\n",
       "      <th>5</th>\n",
       "      <td>Top 10 Projects for Beginners in Computer Visi...</td>\n",
       "    </tr>\n",
       "    <tr>\n",
       "      <th>6</th>\n",
       "      <td>[Weekend Recap] China AI Deep Dive: Computer V...</td>\n",
       "    </tr>\n",
       "    <tr>\n",
       "      <th>7</th>\n",
       "      <td>@replit Enough computer vision software expertise</td>\n",
       "    </tr>\n",
       "    <tr>\n",
       "      <th>8</th>\n",
       "      <td>CNN for Computer Vision with Keras and TensorF...</td>\n",
       "    </tr>\n",
       "    <tr>\n",
       "      <th>9</th>\n",
       "      <td>We have a @RollsRoyce #Sponsored #PhD #Student...</td>\n",
       "    </tr>\n",
       "  </tbody>\n",
       "</table>\n",
       "</div>"
      ],
      "text/plain": [
       "                                                   0\n",
       "0  this is not computer vision research, it’s a b...\n",
       "1  @pfbyjy Technically one could use any vector s...\n",
       "2  Join eInfochips, an Arrow company, at #GTC21 f...\n",
       "3  MIT researchers have developed a robot that us...\n",
       "4  @svpino Hello, I'm a College Student. I'm just...\n",
       "5  Top 10 Projects for Beginners in Computer Visi...\n",
       "6  [Weekend Recap] China AI Deep Dive: Computer V...\n",
       "7  @replit Enough computer vision software expertise\n",
       "8  CNN for Computer Vision with Keras and TensorF...\n",
       "9  We have a @RollsRoyce #Sponsored #PhD #Student..."
      ]
     },
     "execution_count": 39,
     "metadata": {},
     "output_type": "execute_result"
    }
   ],
   "source": [
    "tweet_list = [tweet.text for tweet in tweets]\n",
    "tweet_df = pd.DataFrame(tweet_list)\n",
    "tweet_df"
   ]
  },
  {
   "cell_type": "markdown",
   "metadata": {},
   "source": [
    "# 4"
   ]
  },
  {
   "cell_type": "code",
   "execution_count": 40,
   "metadata": {},
   "outputs": [],
   "source": [
    "def clean_data(text):\n",
    "    return ' '.join(re.sub(\"(@[a-zA-Z0-9]+)|([^0-9A-Za-z])|(https://[\\w.]+/[\\w]+)\", \" \", text).split())\n",
    "\n",
    "tweet_df['cleaned_data'] = tweet_df[0].apply(clean_data)"
   ]
  },
  {
   "cell_type": "code",
   "execution_count": 41,
   "metadata": {},
   "outputs": [
    {
     "data": {
      "text/html": [
       "<div>\n",
       "<style scoped>\n",
       "    .dataframe tbody tr th:only-of-type {\n",
       "        vertical-align: middle;\n",
       "    }\n",
       "\n",
       "    .dataframe tbody tr th {\n",
       "        vertical-align: top;\n",
       "    }\n",
       "\n",
       "    .dataframe thead th {\n",
       "        text-align: right;\n",
       "    }\n",
       "</style>\n",
       "<table border=\"1\" class=\"dataframe\">\n",
       "  <thead>\n",
       "    <tr style=\"text-align: right;\">\n",
       "      <th></th>\n",
       "      <th>0</th>\n",
       "      <th>cleaned_data</th>\n",
       "    </tr>\n",
       "  </thead>\n",
       "  <tbody>\n",
       "    <tr>\n",
       "      <th>0</th>\n",
       "      <td>this is not computer vision research, it’s a b...</td>\n",
       "      <td>this is not computer vision research it s a bu...</td>\n",
       "    </tr>\n",
       "    <tr>\n",
       "      <th>1</th>\n",
       "      <td>@pfbyjy Technically one could use any vector s...</td>\n",
       "      <td>Technically one could use any vector space dis...</td>\n",
       "    </tr>\n",
       "    <tr>\n",
       "      <th>2</th>\n",
       "      <td>Join eInfochips, an Arrow company, at #GTC21 f...</td>\n",
       "      <td>Join eInfochips an Arrow company at GTC21 for ...</td>\n",
       "    </tr>\n",
       "    <tr>\n",
       "      <th>3</th>\n",
       "      <td>MIT researchers have developed a robot that us...</td>\n",
       "      <td>MIT researchers have developed a robot that us...</td>\n",
       "    </tr>\n",
       "    <tr>\n",
       "      <th>4</th>\n",
       "      <td>@svpino Hello, I'm a College Student. I'm just...</td>\n",
       "      <td>Hello I m a College Student I m just starting ...</td>\n",
       "    </tr>\n",
       "    <tr>\n",
       "      <th>5</th>\n",
       "      <td>Top 10 Projects for Beginners in Computer Visi...</td>\n",
       "      <td>Top 10 Projects for Beginners in Computer Visi...</td>\n",
       "    </tr>\n",
       "    <tr>\n",
       "      <th>6</th>\n",
       "      <td>[Weekend Recap] China AI Deep Dive: Computer V...</td>\n",
       "      <td>Weekend Recap China AI Deep Dive Computer Visi...</td>\n",
       "    </tr>\n",
       "    <tr>\n",
       "      <th>7</th>\n",
       "      <td>@replit Enough computer vision software expertise</td>\n",
       "      <td>Enough computer vision software expertise</td>\n",
       "    </tr>\n",
       "    <tr>\n",
       "      <th>8</th>\n",
       "      <td>CNN for Computer Vision with Keras and TensorF...</td>\n",
       "      <td>CNN for Computer Vision with Keras and TensorF...</td>\n",
       "    </tr>\n",
       "    <tr>\n",
       "      <th>9</th>\n",
       "      <td>We have a @RollsRoyce #Sponsored #PhD #Student...</td>\n",
       "      <td>We have a Sponsored PhD Studentship in Compute...</td>\n",
       "    </tr>\n",
       "  </tbody>\n",
       "</table>\n",
       "</div>"
      ],
      "text/plain": [
       "                                                   0  \\\n",
       "0  this is not computer vision research, it’s a b...   \n",
       "1  @pfbyjy Technically one could use any vector s...   \n",
       "2  Join eInfochips, an Arrow company, at #GTC21 f...   \n",
       "3  MIT researchers have developed a robot that us...   \n",
       "4  @svpino Hello, I'm a College Student. I'm just...   \n",
       "5  Top 10 Projects for Beginners in Computer Visi...   \n",
       "6  [Weekend Recap] China AI Deep Dive: Computer V...   \n",
       "7  @replit Enough computer vision software expertise   \n",
       "8  CNN for Computer Vision with Keras and TensorF...   \n",
       "9  We have a @RollsRoyce #Sponsored #PhD #Student...   \n",
       "\n",
       "                                        cleaned_data  \n",
       "0  this is not computer vision research it s a bu...  \n",
       "1  Technically one could use any vector space dis...  \n",
       "2  Join eInfochips an Arrow company at GTC21 for ...  \n",
       "3  MIT researchers have developed a robot that us...  \n",
       "4  Hello I m a College Student I m just starting ...  \n",
       "5  Top 10 Projects for Beginners in Computer Visi...  \n",
       "6  Weekend Recap China AI Deep Dive Computer Visi...  \n",
       "7          Enough computer vision software expertise  \n",
       "8  CNN for Computer Vision with Keras and TensorF...  \n",
       "9  We have a Sponsored PhD Studentship in Compute...  "
      ]
     },
     "execution_count": 41,
     "metadata": {},
     "output_type": "execute_result"
    }
   ],
   "source": [
    "tweet_df"
   ]
  },
  {
   "cell_type": "code",
   "execution_count": 42,
   "metadata": {},
   "outputs": [],
   "source": [
    "def drop_numbers(list_text):\n",
    "    list_text_new = []\n",
    "    for i in list_text:\n",
    "        if not re.search('\\d', i):\n",
    "            list_text_new.append(i)\n",
    "    return ''.join(list_text_new)\n",
    "\n",
    "tweet_df['cleaned_data'] = tweet_df['cleaned_data'].apply(drop_numbers)"
   ]
  },
  {
   "cell_type": "code",
   "execution_count": 43,
   "metadata": {},
   "outputs": [
    {
     "data": {
      "text/html": [
       "<div>\n",
       "<style scoped>\n",
       "    .dataframe tbody tr th:only-of-type {\n",
       "        vertical-align: middle;\n",
       "    }\n",
       "\n",
       "    .dataframe tbody tr th {\n",
       "        vertical-align: top;\n",
       "    }\n",
       "\n",
       "    .dataframe thead th {\n",
       "        text-align: right;\n",
       "    }\n",
       "</style>\n",
       "<table border=\"1\" class=\"dataframe\">\n",
       "  <thead>\n",
       "    <tr style=\"text-align: right;\">\n",
       "      <th></th>\n",
       "      <th>0</th>\n",
       "      <th>cleaned_data</th>\n",
       "    </tr>\n",
       "  </thead>\n",
       "  <tbody>\n",
       "    <tr>\n",
       "      <th>0</th>\n",
       "      <td>this is not computer vision research, it’s a b...</td>\n",
       "      <td>this is not computer vision research it s a bu...</td>\n",
       "    </tr>\n",
       "    <tr>\n",
       "      <th>1</th>\n",
       "      <td>@pfbyjy Technically one could use any vector s...</td>\n",
       "      <td>Technically one could use any vector space dis...</td>\n",
       "    </tr>\n",
       "    <tr>\n",
       "      <th>2</th>\n",
       "      <td>Join eInfochips, an Arrow company, at #GTC21 f...</td>\n",
       "      <td>Join eInfochips an Arrow company at GTC for a ...</td>\n",
       "    </tr>\n",
       "    <tr>\n",
       "      <th>3</th>\n",
       "      <td>MIT researchers have developed a robot that us...</td>\n",
       "      <td>MIT researchers have developed a robot that us...</td>\n",
       "    </tr>\n",
       "    <tr>\n",
       "      <th>4</th>\n",
       "      <td>@svpino Hello, I'm a College Student. I'm just...</td>\n",
       "      <td>Hello I m a College Student I m just starting ...</td>\n",
       "    </tr>\n",
       "    <tr>\n",
       "      <th>5</th>\n",
       "      <td>Top 10 Projects for Beginners in Computer Visi...</td>\n",
       "      <td>Top  Projects for Beginners in Computer Vision...</td>\n",
       "    </tr>\n",
       "    <tr>\n",
       "      <th>6</th>\n",
       "      <td>[Weekend Recap] China AI Deep Dive: Computer V...</td>\n",
       "      <td>Weekend Recap China AI Deep Dive Computer Visi...</td>\n",
       "    </tr>\n",
       "    <tr>\n",
       "      <th>7</th>\n",
       "      <td>@replit Enough computer vision software expertise</td>\n",
       "      <td>Enough computer vision software expertise</td>\n",
       "    </tr>\n",
       "    <tr>\n",
       "      <th>8</th>\n",
       "      <td>CNN for Computer Vision with Keras and TensorF...</td>\n",
       "      <td>CNN for Computer Vision with Keras and TensorF...</td>\n",
       "    </tr>\n",
       "    <tr>\n",
       "      <th>9</th>\n",
       "      <td>We have a @RollsRoyce #Sponsored #PhD #Student...</td>\n",
       "      <td>We have a Sponsored PhD Studentship in Compute...</td>\n",
       "    </tr>\n",
       "  </tbody>\n",
       "</table>\n",
       "</div>"
      ],
      "text/plain": [
       "                                                   0  \\\n",
       "0  this is not computer vision research, it’s a b...   \n",
       "1  @pfbyjy Technically one could use any vector s...   \n",
       "2  Join eInfochips, an Arrow company, at #GTC21 f...   \n",
       "3  MIT researchers have developed a robot that us...   \n",
       "4  @svpino Hello, I'm a College Student. I'm just...   \n",
       "5  Top 10 Projects for Beginners in Computer Visi...   \n",
       "6  [Weekend Recap] China AI Deep Dive: Computer V...   \n",
       "7  @replit Enough computer vision software expertise   \n",
       "8  CNN for Computer Vision with Keras and TensorF...   \n",
       "9  We have a @RollsRoyce #Sponsored #PhD #Student...   \n",
       "\n",
       "                                        cleaned_data  \n",
       "0  this is not computer vision research it s a bu...  \n",
       "1  Technically one could use any vector space dis...  \n",
       "2  Join eInfochips an Arrow company at GTC for a ...  \n",
       "3  MIT researchers have developed a robot that us...  \n",
       "4  Hello I m a College Student I m just starting ...  \n",
       "5  Top  Projects for Beginners in Computer Vision...  \n",
       "6  Weekend Recap China AI Deep Dive Computer Visi...  \n",
       "7          Enough computer vision software expertise  \n",
       "8  CNN for Computer Vision with Keras and TensorF...  \n",
       "9  We have a Sponsored PhD Studentship in Compute...  "
      ]
     },
     "execution_count": 43,
     "metadata": {},
     "output_type": "execute_result"
    }
   ],
   "source": [
    "tweet_df # top 5"
   ]
  },
  {
   "cell_type": "code",
   "execution_count": 44,
   "metadata": {},
   "outputs": [],
   "source": [
    "# changing all the words of the reviews column to lowercase letters\n",
    "def lower_case(text):\n",
    "    text_words = word_tokenize(text)\n",
    "    text_words_lower = [x.lower() for x in text_words]\n",
    "    return ' '.join(text_words_lower)\n",
    "\n",
    "tweet_df['cleaned_data'] = tweet_df['cleaned_data'].apply(lower_case)"
   ]
  },
  {
   "cell_type": "code",
   "execution_count": 45,
   "metadata": {},
   "outputs": [
    {
     "name": "stderr",
     "output_type": "stream",
     "text": [
      "[nltk_data] Downloading package wordnet to C:\\Users\\NAMAN\n",
      "[nltk_data]     AGRAWAL\\AppData\\Roaming\\nltk_data...\n",
      "[nltk_data]   Package wordnet is already up-to-date!\n"
     ]
    },
    {
     "data": {
      "text/plain": [
       "True"
      ]
     },
     "execution_count": 45,
     "metadata": {},
     "output_type": "execute_result"
    }
   ],
   "source": [
    "import nltk # natural language tool kit \n",
    "nltk.download('wordnet')"
   ]
  },
  {
   "cell_type": "code",
   "execution_count": 46,
   "metadata": {},
   "outputs": [],
   "source": [
    "lemmatizer = WordNetLemmatizer()\n",
    "def lemmatise(text):\n",
    "    text_tokens = word_tokenize(text)\n",
    "    text_lemm = [lemmatizer.lemmatize(word) for word in text_tokens]\n",
    "    return ' '.join(text_lemm)\n",
    "\n",
    "tweet_df['cleaned_data'] = tweet_df['cleaned_data'].apply(lemmatise)"
   ]
  },
  {
   "cell_type": "code",
   "execution_count": 47,
   "metadata": {},
   "outputs": [
    {
     "data": {
      "text/plain": [
       "array(['this is not computer vision research it s a bunch of guy writing judgy thing about their neighbor house into a',\n",
       "       'technically one could use any vector space distance but cosine similarity dominates most application afai',\n",
       "       'join einfochips an arrow company at gtc for a webinar on image tuning for computer vision application',\n",
       "       'mit researcher have developed a robot that us radio wave which can pas through wall to sense hidden object',\n",
       "       'hello i m a college student i m just starting to learn programming i want to learn data science compute',\n",
       "       'top project for beginner in computer vision and medical imaging',\n",
       "       'weekend recap china ai deep dive computer vision report with from',\n",
       "       'enough computer vision software expertise',\n",
       "       'cnn for computer vision with kera and tensorflow in python machinelearning ad',\n",
       "       'we have a sponsored phd studentship in computer vision and robot control for performing on wing rep'],\n",
       "      dtype=object)"
      ]
     },
     "execution_count": 47,
     "metadata": {},
     "output_type": "execute_result"
    }
   ],
   "source": [
    "tweet_df['cleaned_data'].values"
   ]
  },
  {
   "cell_type": "code",
   "execution_count": 48,
   "metadata": {},
   "outputs": [],
   "source": [
    "def remove_stopword(text):\n",
    "    text_tokens = word_tokenize(text)\n",
    "    tokens = [word for word in text_tokens if not word in set(stopwords.words('english'))]\n",
    "    tokens_text = ' '.join(tokens)\n",
    "    return tokens_text\n",
    "\n",
    "tweet_df['cleaned_data'] = tweet_df['cleaned_data'].apply(remove_stopword)"
   ]
  },
  {
   "cell_type": "code",
   "execution_count": 49,
   "metadata": {},
   "outputs": [
    {
     "data": {
      "text/plain": [
       "array(['computer vision research bunch guy writing judgy thing neighbor house',\n",
       "       'technically one could use vector space distance cosine similarity dominates application afai',\n",
       "       'join einfochips arrow company gtc webinar image tuning computer vision application',\n",
       "       'mit researcher developed robot us radio wave pas wall sense hidden object',\n",
       "       'hello college student starting learn programming want learn data science compute',\n",
       "       'top project beginner computer vision medical imaging',\n",
       "       'weekend recap china ai deep dive computer vision report',\n",
       "       'enough computer vision software expertise',\n",
       "       'cnn computer vision kera tensorflow python machinelearning ad',\n",
       "       'sponsored phd studentship computer vision robot control performing wing rep'],\n",
       "      dtype=object)"
      ]
     },
     "execution_count": 49,
     "metadata": {},
     "output_type": "execute_result"
    }
   ],
   "source": [
    "tweet_df['cleaned_data'].values"
   ]
  },
  {
   "cell_type": "markdown",
   "metadata": {},
   "source": [
    "# 5"
   ]
  },
  {
   "cell_type": "code",
   "execution_count": null,
   "metadata": {},
   "outputs": [],
   "source": [
    "# Sentiment analyzer engine = 1)Polarity - [-1 , 1] = -1 bahaut ganda , 1= too good \n",
    "# 2) Subjectivity = [0,1] , 0 = objective = facts   ,,    1=subjective = defers from person to person "
   ]
  },
  {
   "cell_type": "code",
   "execution_count": 50,
   "metadata": {},
   "outputs": [],
   "source": [
    "# Lets calculate the Polarity of the Reviews\n",
    "def get_polarity(text):\n",
    "    textblob = TextBlob(str(text))\n",
    "    pol = textblob.sentiment.polarity\n",
    "    if(pol==0):\n",
    "        return \"Neutral\"\n",
    "    elif(pol>0 and pol<=0.3):\n",
    "        return \"Weakly Positive\"\n",
    "    elif(pol>0.3 and pol<=0.6):\n",
    "        return \"Positive\"\n",
    "    elif(pol>0.6 and pol<=1):\n",
    "        return \"Strongly Positive\"\n",
    "    elif(pol>-0.3 and pol<=0):\n",
    "        return \"Weakly Negative\"\n",
    "    elif(pol>-0.6 and pol<=-0.3):\n",
    "        return \"Negative\"\n",
    "    elif(pol>-1 and pol<=-0.6):\n",
    "        return \"Strongly Negative\"\n",
    "    \n",
    "tweet_df['polarity'] = tweet_df['cleaned_data'].apply(get_polarity)"
   ]
  },
  {
   "cell_type": "code",
   "execution_count": 51,
   "metadata": {},
   "outputs": [
    {
     "data": {
      "text/plain": [
       "Neutral            8\n",
       "Weakly Positive    1\n",
       "Weakly Negative    1\n",
       "Name: polarity, dtype: int64"
      ]
     },
     "execution_count": 51,
     "metadata": {},
     "output_type": "execute_result"
    }
   ],
   "source": [
    "tweet_df['polarity'].value_counts() # frequency of each category in polarity column"
   ]
  },
  {
   "cell_type": "code",
   "execution_count": 52,
   "metadata": {},
   "outputs": [
    {
     "data": {
      "text/plain": [
       "0               object\n",
       "cleaned_data    object\n",
       "polarity        object\n",
       "dtype: object"
      ]
     },
     "execution_count": 52,
     "metadata": {},
     "output_type": "execute_result"
    }
   ],
   "source": [
    "tweet_df.dtypes"
   ]
  },
  {
   "cell_type": "code",
   "execution_count": 53,
   "metadata": {},
   "outputs": [
    {
     "ename": "KeyError",
     "evalue": "10",
     "output_type": "error",
     "traceback": [
      "\u001b[1;31m---------------------------------------------------------------------------\u001b[0m",
      "\u001b[1;31mValueError\u001b[0m                                Traceback (most recent call last)",
      "\u001b[1;32m~\\Anaconda3\\lib\\site-packages\\pandas\\core\\indexes\\range.py\u001b[0m in \u001b[0;36mget_loc\u001b[1;34m(self, key, method, tolerance)\u001b[0m\n\u001b[0;32m    354\u001b[0m                 \u001b[1;32mtry\u001b[0m\u001b[1;33m:\u001b[0m\u001b[1;33m\u001b[0m\u001b[1;33m\u001b[0m\u001b[0m\n\u001b[1;32m--> 355\u001b[1;33m                     \u001b[1;32mreturn\u001b[0m \u001b[0mself\u001b[0m\u001b[1;33m.\u001b[0m\u001b[0m_range\u001b[0m\u001b[1;33m.\u001b[0m\u001b[0mindex\u001b[0m\u001b[1;33m(\u001b[0m\u001b[0mnew_key\u001b[0m\u001b[1;33m)\u001b[0m\u001b[1;33m\u001b[0m\u001b[1;33m\u001b[0m\u001b[0m\n\u001b[0m\u001b[0;32m    356\u001b[0m                 \u001b[1;32mexcept\u001b[0m \u001b[0mValueError\u001b[0m \u001b[1;32mas\u001b[0m \u001b[0merr\u001b[0m\u001b[1;33m:\u001b[0m\u001b[1;33m\u001b[0m\u001b[1;33m\u001b[0m\u001b[0m\n",
      "\u001b[1;31mValueError\u001b[0m: 10 is not in range",
      "\nThe above exception was the direct cause of the following exception:\n",
      "\u001b[1;31mKeyError\u001b[0m                                  Traceback (most recent call last)",
      "\u001b[1;32m<ipython-input-53-b2e67e1e1fd4>\u001b[0m in \u001b[0;36m<module>\u001b[1;34m\u001b[0m\n\u001b[0;32m      9\u001b[0m \u001b[1;33m\u001b[0m\u001b[0m\n\u001b[0;32m     10\u001b[0m \u001b[1;32mfor\u001b[0m \u001b[0mi\u001b[0m \u001b[1;32min\u001b[0m \u001b[0mrange\u001b[0m\u001b[1;33m(\u001b[0m\u001b[1;36m0\u001b[0m\u001b[1;33m,\u001b[0m\u001b[1;36m70\u001b[0m\u001b[1;33m)\u001b[0m\u001b[1;33m:\u001b[0m\u001b[1;33m\u001b[0m\u001b[1;33m\u001b[0m\u001b[0m\n\u001b[1;32m---> 11\u001b[1;33m     \u001b[0mtextblob\u001b[0m \u001b[1;33m=\u001b[0m \u001b[0mTextBlob\u001b[0m\u001b[1;33m(\u001b[0m\u001b[0mstr\u001b[0m\u001b[1;33m(\u001b[0m\u001b[0mtweet_df\u001b[0m\u001b[1;33m[\u001b[0m\u001b[1;34m'cleaned_data'\u001b[0m\u001b[1;33m]\u001b[0m\u001b[1;33m[\u001b[0m\u001b[0mi\u001b[0m\u001b[1;33m]\u001b[0m\u001b[1;33m)\u001b[0m\u001b[1;33m)\u001b[0m\u001b[1;33m\u001b[0m\u001b[1;33m\u001b[0m\u001b[0m\n\u001b[0m\u001b[0;32m     12\u001b[0m     \u001b[0mpolarity\u001b[0m\u001b[1;33m+=\u001b[0m \u001b[0mtextblob\u001b[0m\u001b[1;33m.\u001b[0m\u001b[0msentiment\u001b[0m\u001b[1;33m.\u001b[0m\u001b[0mpolarity\u001b[0m\u001b[1;33m\u001b[0m\u001b[1;33m\u001b[0m\u001b[0m\n\u001b[0;32m     13\u001b[0m     \u001b[0mpol\u001b[0m \u001b[1;33m=\u001b[0m \u001b[0mtextblob\u001b[0m\u001b[1;33m.\u001b[0m\u001b[0msentiment\u001b[0m\u001b[1;33m.\u001b[0m\u001b[0mpolarity\u001b[0m\u001b[1;33m\u001b[0m\u001b[1;33m\u001b[0m\u001b[0m\n",
      "\u001b[1;32m~\\Anaconda3\\lib\\site-packages\\pandas\\core\\series.py\u001b[0m in \u001b[0;36m__getitem__\u001b[1;34m(self, key)\u001b[0m\n\u001b[0;32m    880\u001b[0m \u001b[1;33m\u001b[0m\u001b[0m\n\u001b[0;32m    881\u001b[0m         \u001b[1;32melif\u001b[0m \u001b[0mkey_is_scalar\u001b[0m\u001b[1;33m:\u001b[0m\u001b[1;33m\u001b[0m\u001b[1;33m\u001b[0m\u001b[0m\n\u001b[1;32m--> 882\u001b[1;33m             \u001b[1;32mreturn\u001b[0m \u001b[0mself\u001b[0m\u001b[1;33m.\u001b[0m\u001b[0m_get_value\u001b[0m\u001b[1;33m(\u001b[0m\u001b[0mkey\u001b[0m\u001b[1;33m)\u001b[0m\u001b[1;33m\u001b[0m\u001b[1;33m\u001b[0m\u001b[0m\n\u001b[0m\u001b[0;32m    883\u001b[0m \u001b[1;33m\u001b[0m\u001b[0m\n\u001b[0;32m    884\u001b[0m         if (\n",
      "\u001b[1;32m~\\Anaconda3\\lib\\site-packages\\pandas\\core\\series.py\u001b[0m in \u001b[0;36m_get_value\u001b[1;34m(self, label, takeable)\u001b[0m\n\u001b[0;32m    989\u001b[0m \u001b[1;33m\u001b[0m\u001b[0m\n\u001b[0;32m    990\u001b[0m         \u001b[1;31m# Similar to Index.get_value, but we do not fall back to positional\u001b[0m\u001b[1;33m\u001b[0m\u001b[1;33m\u001b[0m\u001b[1;33m\u001b[0m\u001b[0m\n\u001b[1;32m--> 991\u001b[1;33m         \u001b[0mloc\u001b[0m \u001b[1;33m=\u001b[0m \u001b[0mself\u001b[0m\u001b[1;33m.\u001b[0m\u001b[0mindex\u001b[0m\u001b[1;33m.\u001b[0m\u001b[0mget_loc\u001b[0m\u001b[1;33m(\u001b[0m\u001b[0mlabel\u001b[0m\u001b[1;33m)\u001b[0m\u001b[1;33m\u001b[0m\u001b[1;33m\u001b[0m\u001b[0m\n\u001b[0m\u001b[0;32m    992\u001b[0m         \u001b[1;32mreturn\u001b[0m \u001b[0mself\u001b[0m\u001b[1;33m.\u001b[0m\u001b[0mindex\u001b[0m\u001b[1;33m.\u001b[0m\u001b[0m_get_values_for_loc\u001b[0m\u001b[1;33m(\u001b[0m\u001b[0mself\u001b[0m\u001b[1;33m,\u001b[0m \u001b[0mloc\u001b[0m\u001b[1;33m,\u001b[0m \u001b[0mlabel\u001b[0m\u001b[1;33m)\u001b[0m\u001b[1;33m\u001b[0m\u001b[1;33m\u001b[0m\u001b[0m\n\u001b[0;32m    993\u001b[0m \u001b[1;33m\u001b[0m\u001b[0m\n",
      "\u001b[1;32m~\\Anaconda3\\lib\\site-packages\\pandas\\core\\indexes\\range.py\u001b[0m in \u001b[0;36mget_loc\u001b[1;34m(self, key, method, tolerance)\u001b[0m\n\u001b[0;32m    355\u001b[0m                     \u001b[1;32mreturn\u001b[0m \u001b[0mself\u001b[0m\u001b[1;33m.\u001b[0m\u001b[0m_range\u001b[0m\u001b[1;33m.\u001b[0m\u001b[0mindex\u001b[0m\u001b[1;33m(\u001b[0m\u001b[0mnew_key\u001b[0m\u001b[1;33m)\u001b[0m\u001b[1;33m\u001b[0m\u001b[1;33m\u001b[0m\u001b[0m\n\u001b[0;32m    356\u001b[0m                 \u001b[1;32mexcept\u001b[0m \u001b[0mValueError\u001b[0m \u001b[1;32mas\u001b[0m \u001b[0merr\u001b[0m\u001b[1;33m:\u001b[0m\u001b[1;33m\u001b[0m\u001b[1;33m\u001b[0m\u001b[0m\n\u001b[1;32m--> 357\u001b[1;33m                     \u001b[1;32mraise\u001b[0m \u001b[0mKeyError\u001b[0m\u001b[1;33m(\u001b[0m\u001b[0mkey\u001b[0m\u001b[1;33m)\u001b[0m \u001b[1;32mfrom\u001b[0m \u001b[0merr\u001b[0m\u001b[1;33m\u001b[0m\u001b[1;33m\u001b[0m\u001b[0m\n\u001b[0m\u001b[0;32m    358\u001b[0m             \u001b[1;32mraise\u001b[0m \u001b[0mKeyError\u001b[0m\u001b[1;33m(\u001b[0m\u001b[0mkey\u001b[0m\u001b[1;33m)\u001b[0m\u001b[1;33m\u001b[0m\u001b[1;33m\u001b[0m\u001b[0m\n\u001b[0;32m    359\u001b[0m         \u001b[1;32mreturn\u001b[0m \u001b[0msuper\u001b[0m\u001b[1;33m(\u001b[0m\u001b[1;33m)\u001b[0m\u001b[1;33m.\u001b[0m\u001b[0mget_loc\u001b[0m\u001b[1;33m(\u001b[0m\u001b[0mkey\u001b[0m\u001b[1;33m,\u001b[0m \u001b[0mmethod\u001b[0m\u001b[1;33m=\u001b[0m\u001b[0mmethod\u001b[0m\u001b[1;33m,\u001b[0m \u001b[0mtolerance\u001b[0m\u001b[1;33m=\u001b[0m\u001b[0mtolerance\u001b[0m\u001b[1;33m)\u001b[0m\u001b[1;33m\u001b[0m\u001b[1;33m\u001b[0m\u001b[0m\n",
      "\u001b[1;31mKeyError\u001b[0m: 10"
     ]
    }
   ],
   "source": [
    "neutral = 0\n",
    "wpositive = 0\n",
    "spositive = 0\n",
    "positive = 0\n",
    "negative = 0\n",
    "wnegative = 0\n",
    "snegative = 0\n",
    "polarity = 0\n",
    "\n",
    "for i in range(0,70):\n",
    "    textblob = TextBlob(str(tweet_df['cleaned_data'][i]))\n",
    "    polarity+= textblob.sentiment.polarity\n",
    "    pol = textblob.sentiment.polarity\n",
    "    if (pol == 0):  # adding reaction of how people are reacting to find average later\n",
    "        neutral += 1\n",
    "    elif (pol > 0 and pol <= 0.3):\n",
    "        wpositive += 1\n",
    "    elif (pol > 0.3 and pol <= 0.6):\n",
    "        positive += 1\n",
    "    elif (pol > 0.6 and pol <= 1):\n",
    "        spositive += 1\n",
    "    elif (pol > -0.3 and pol <= 0):\n",
    "        wnegative += 1\n",
    "    elif (pol > -0.6 and pol <= -0.3):\n",
    "        negative += 1\n",
    "    elif (pol > -1 and pol <= -0.6):\n",
    "        snegative += 1\n"
   ]
  },
  {
   "cell_type": "code",
   "execution_count": null,
   "metadata": {},
   "outputs": [],
   "source": [
    "# finding average reaction\n",
    "polarity = polarity / NoOfTerms\n",
    "polarity"
   ]
  },
  {
   "cell_type": "code",
   "execution_count": 54,
   "metadata": {},
   "outputs": [],
   "source": [
    "def percentage(part, whole):\n",
    "    temp = 100 * float(part) / float(whole)\n",
    "    return format(temp, '.2f')"
   ]
  },
  {
   "cell_type": "code",
   "execution_count": 55,
   "metadata": {},
   "outputs": [],
   "source": [
    " # finding average of how people are reacting\n",
    "positive = percentage(positive, NoOfTerms)\n",
    "wpositive = percentage(wpositive, NoOfTerms)\n",
    "spositive = percentage(spositive, NoOfTerms)\n",
    "negative = percentage(negative, NoOfTerms)\n",
    "wnegative = percentage(wnegative, NoOfTerms)\n",
    "snegative = percentage(snegative, NoOfTerms)\n",
    "neutral = percentage(neutral, NoOfTerms)\n",
    "\n"
   ]
  },
  {
   "cell_type": "code",
   "execution_count": 56,
   "metadata": {},
   "outputs": [
    {
     "name": "stdout",
     "output_type": "stream",
     "text": [
      "How people are reacting on computer vision by analyzing 10 tweets.\n",
      "\n",
      "-----------------------------------------------------------------------------------------\n",
      "\n",
      "General Report: \n",
      "Weakly Positive\n",
      "\n",
      "------------------------------------------------------------------------------------------\n",
      "\n",
      "Detailed Report: \n",
      "0.00% people thought it was positive\n",
      "10.00% people thought it was weakly positive\n",
      "0.00% people thought it was strongly positive\n",
      "0.00% people thought it was negative\n",
      "10.00% people thought it was weakly negative\n",
      "0.00% people thought it was strongly negative\n",
      "80.00% people thought it was neutral\n"
     ]
    }
   ],
   "source": [
    " # printing out data\n",
    "print(\"How people are reacting on \" + searchTerm + \" by analyzing \" + str(NoOfTerms) + \" tweets.\")\n",
    "print()\n",
    "print(\"-----------------------------------------------------------------------------------------\")\n",
    "print()\n",
    "print(\"General Report: \")\n",
    "\n",
    "if (polarity == 0):\n",
    "    print(\"Neutral\")\n",
    "elif (polarity > 0 and polarity <= 0.3):\n",
    "    print(\"Weakly Positive\")\n",
    "elif (polarity > 0.3 and polarity <= 0.6):\n",
    "    print(\"Positive\")\n",
    "elif (polarity > 0.6 and polarity <= 1):\n",
    "    print(\"Strongly Positive\")\n",
    "elif (polarity > -0.3 and polarity <= 0):\n",
    "    print(\"Weakly Negative\")\n",
    "elif (polarity > -0.6 and polarity <= -0.3):\n",
    "    print(\"Negative\")\n",
    "elif (polarity > -1 and polarity <= -0.6):\n",
    "    print(\"Strongly Negative\")\n",
    "\n",
    "print()\n",
    "print(\"------------------------------------------------------------------------------------------\")\n",
    "print()\n",
    "print(\"Detailed Report: \")\n",
    "print(str(positive) + \"% people thought it was positive\")\n",
    "print(str(wpositive) + \"% people thought it was weakly positive\")\n",
    "print(str(spositive) + \"% people thought it was strongly positive\")\n",
    "print(str(negative) + \"% people thought it was negative\")\n",
    "print(str(wnegative) + \"% people thought it was weakly negative\")\n",
    "print(str(snegative) + \"% people thought it was strongly negative\")\n",
    "print(str(neutral) + \"% people thought it was neutral\")"
   ]
  },
  {
   "cell_type": "code",
   "execution_count": 57,
   "metadata": {},
   "outputs": [],
   "source": [
    "sizes = [positive, wpositive, spositive, neutral, negative, wnegative, snegative]\n",
    "colors = ['yellowgreen','lightgreen','darkgreen', 'gold', 'red','lightsalmon','darkred']\n",
    "labels = ['Positive [' + str(positive) + '%]', 'Weakly Positive [' + str(wpositive) + '%]',\n",
    "          'Strongly Positive [' + str(spositive) + '%]', 'Neutral [' + str(neutral) + '%]',\n",
    "          'Negative [' + str(negative) + '%]', 'Weakly Negative [' + str(wnegative) + '%]', \n",
    "          'Strongly Negative [' + str(snegative) + '%]']"
   ]
  },
  {
   "cell_type": "code",
   "execution_count": 58,
   "metadata": {},
   "outputs": [
    {
     "data": {
      "image/png": "[encoded data removed]",
      "text/plain": [
       "<Figure size 432x288 with 1 Axes>"
      ]
     },
     "metadata": {},
     "output_type": "display_data"
    }
   ],
   "source": [
    "plt.pie(sizes, labels = labels, colors = colors)\n",
    "plt.legend(labels, loc=\"best\")\n",
    "plt.title('How people are reacting on ' + searchTerm + ' by analyzing ' + str(NoOfTerms) + ' Tweets.')\n",
    "plt.axis('equal')\n",
    "plt.tight_layout()\n",
    "plt.show()"
   ]
  },
  {
   "cell_type": "code",
   "execution_count": null,
   "metadata": {},
   "outputs": [],
   "source": []
  },
  {
   "cell_type": "code",
   "execution_count": null,
   "metadata": {},
   "outputs": [],
   "source": []
  },
  {
   "cell_type": "code",
   "execution_count": null,
   "metadata": {},
   "outputs": [],
   "source": []
  }
 ],
 "metadata": {
  "kernelspec": {
   "display_name": "Python 3",
   "language": "python",
   "name": "python3"
  }
 },
 "nbformat": 4,
 "nbformat_minor": 4
}
